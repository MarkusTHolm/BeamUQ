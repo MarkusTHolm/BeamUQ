{
 "cells": [
  {
   "cell_type": "markdown",
   "metadata": {},
   "source": [
    "## CUQIpy component final project"
   ]
  },
  {
   "cell_type": "markdown",
   "metadata": {},
   "source": [
    "Solve the exercises in the following notebook:"
   ]
  },
  {
   "cell_type": "markdown",
   "metadata": {},
   "source": [
    "import required libraries"
   ]
  },
  {
   "cell_type": "code",
   "execution_count": null,
   "metadata": {},
   "outputs": [],
   "source": [
    "import numpy as np\n",
    "import matplotlib.pyplot as plt\n",
    "import cuqi\n",
    "from scipy.linalg import lu_factor, lu_solve"
   ]
  },
  {
   "cell_type": "markdown",
   "metadata": {},
   "source": [
    "This hydraulic_class is the same one that was provided with the final project. Two changes are made here:\n",
    " - The class solve the forward problem for only one well injection pattern instead of 5. You specify which well by changing source_index which takes values from 0 to 4. 0 means injection in the first well, 1 the second and so on.\n",
    " - The magnitude of the injection source term is changed here (multiplied by 10)"
   ]
  },
  {
   "cell_type": "code",
   "execution_count": null,
   "metadata": {},
   "outputs": [],
   "source": [
    "class hydraulic_class():\n",
    "    def __init__(self, N, L=1, source_idx=0):\n",
    "        self.L = L\n",
    "        self.N = N\n",
    "        self.x = np.linspace(self.L/self.N,1,self.N)\n",
    "        self.dx = self.L/self.N\n",
    "        self.source_idx = source_idx\n",
    "        self.source()\n",
    "\n",
    "    def forward(self, a):\n",
    "        diag1 = -(a[1:] + a[:-1])\n",
    "        diag1 = np.concatenate([diag1,[-a[-1]]])\n",
    "        diag2 = a[1:]\n",
    "\n",
    "        Dxx = np.diag(diag1) + np.diag(diag2,-1) + np.diag(diag2,1)\n",
    "        Dxx /= self.dx*self.dx\n",
    "\n",
    "        lu, piv = lu_factor(Dxx)\n",
    "\n",
    "        sol = lu_solve((lu, piv), self.b_terms) \n",
    "\n",
    "        return np.array(sol)\n",
    "\n",
    "    def source(self, n_source=5, std=0.02):\n",
    "        dist = self.L/(n_source+1)\n",
    "        source_coords = np.linspace( dist,self.L-dist, n_source )\n",
    "        self.b_terms =  10*np.exp( -0.5*(self.x - source_coords[self.source_idx])**2/std/std )/std/np.sqrt(2*np.pi)\n"
   ]
  },
  {
   "cell_type": "markdown",
   "metadata": {},
   "source": [
    "Here we specify the number of nodes N, the prior standard deviation and the likelihood standard deviation."
   ]
  },
  {
   "cell_type": "code",
   "execution_count": null,
   "metadata": {},
   "outputs": [],
   "source": [
    "N = 128\n",
    "sigma_prior = 10\n",
    "sigma_noise = 0.01"
   ]
  },
  {
   "cell_type": "markdown",
   "metadata": {},
   "source": [
    "We create a list of `hydraulic_class` objects, each one corresponding to injection in a different well."
   ]
  },
  {
   "cell_type": "code",
   "execution_count": null,
   "metadata": {},
   "outputs": [],
   "source": [
    "list_of_hydraulic_models = [hydraulic_class(N, source_idx=i) for i in range(5)]"
   ]
  },
  {
   "cell_type": "markdown",
   "metadata": {},
   "source": [
    "We create a variable named `grid` in which we store the grid from one of the `hydraulic_class` objects."
   ]
  },
  {
   "cell_type": "code",
   "execution_count": null,
   "metadata": {},
   "outputs": [],
   "source": [
    "grid = list_of_hydraulic_models[0].x"
   ]
  },
  {
   "cell_type": "markdown",
   "metadata": {},
   "source": [
    "## Create a CUQIpy forward model for the hydraulic model\n",
    "\n",
    "Now we want to create a CUQIpy forward model for the hydraulic model. We will create the domain geometry, the range geometry, and the model.\n",
    "\n",
    "#### Exercise 1. Create the domain geometry\n",
    "The unknown we infer in this Bayesian inverse problem are KL coefficients which are used to build the porosity field.\n",
    "First create a `cuqi.geometry.KLExpansion` object with the following parameters:\n",
    " - `grid` is the `grid` we defined above\n",
    " - `num_modes` is equal to 10\n",
    "\n",
    "Then create the domain geometry `domain_geometry` as a `cuqi.geometry.MappedGeometry` object with the following parameters:\n",
    " - `geometry` is the KL expansion object you created\n",
    " - `map` to be  `lambda x: np.exp(x)` which is the exponential map used to map the KL field to what is used in the hydraulic model as the porosity field.\n"
   ]
  },
  {
   "cell_type": "code",
   "execution_count": null,
   "metadata": {},
   "outputs": [],
   "source": [
    "# your code here"
   ]
  },
  {
   "cell_type": "markdown",
   "metadata": {},
   "source": [
    "#### Exercise 2. Create the range geometry\n",
    "- Create the model range geometry `range_geometry` as a `cuqi.geometry.Continuous1D` object with the following parameters:\n",
    "  - `grid` is the `grid` we defined above"
   ]
  },
  {
   "cell_type": "code",
   "execution_count": null,
   "metadata": {},
   "outputs": [],
   "source": [
    "# your code here"
   ]
  },
  {
   "cell_type": "markdown",
   "metadata": {},
   "source": [
    "#### Exercise 3. Creating the forward model\n",
    "After you have defined the range and domain geometries, use this exact code to create a list of `CUQIpy` forward models, each corresponding to the hydraulic model we created above.\n",
    "    \n",
    "```python\n",
    "list_of_hydraulic_cuqi_models = [cuqi.model.Model(forward=problem.forward, domain_geometry=domain_geometry, range_geometry=range_geometry) for problem in list_of_hydraulic_models]\n",
    "```\n"
   ]
  },
  {
   "cell_type": "code",
   "execution_count": null,
   "metadata": {},
   "outputs": [],
   "source": [
    "# your code here"
   ]
  },
  {
   "cell_type": "markdown",
   "metadata": {},
   "source": [
    "We will only focus on the first hydraulic model. Let us name it `A` (use this code to create it: `A = list_of_hydraulic_cuqi_models[0]`)."
   ]
  },
  {
   "cell_type": "code",
   "execution_count": null,
   "metadata": {},
   "outputs": [],
   "source": [
    "# your code here"
   ]
  },
  {
   "cell_type": "markdown",
   "metadata": {},
   "source": [
    "## Create the Bayesian inverse problem\n",
    "\n",
    "#### Exercise 4. Create the prior\n",
    "- create a prior named `x` as a `cuqi.distribution.Gaussian` object with the following parameters:\n",
    "  - `mean` is zero\n",
    "  - `cov` is `sigma_prior**2`\n",
    "  - `geometry` is the domain geometry `domain_geometry`"
   ]
  },
  {
   "cell_type": "code",
   "execution_count": null,
   "metadata": {},
   "outputs": [],
   "source": [
    "# your code here\n"
   ]
  },
  {
   "cell_type": "markdown",
   "metadata": {},
   "source": [
    "#### Exercise 5. Create the data distribution\n",
    "- create a data distribution named `y` as a `cuqi.distribution.Gaussian` object with the following parameters:\n",
    "  - `mean` is `A(x)`, the forward model applied to the prior\n",
    "  - `cov` is `sigma_noise**2`\n",
    "  - `geometry` is the range geometry `range_geometry`"
   ]
  },
  {
   "cell_type": "code",
   "execution_count": null,
   "metadata": {},
   "outputs": [],
   "source": [
    "# your code here"
   ]
  },
  {
   "cell_type": "markdown",
   "metadata": {},
   "source": [
    "Assume the true KL coefficients that gave rise to the data is the following:\n",
    "\n",
    "```python\n",
    "np.array([  4.72985831,  -6.81425879,   2.42439497, -17.00735634,\n",
    "             7.53142834, -15.3472134 ,   0.05127078,  -1.2022767 ,\n",
    "            -8.06981879,  28.71819395])\n",
    "```"
   ]
  },
  {
   "cell_type": "markdown",
   "metadata": {},
   "source": [
    "We create a CUQIpy array `x_true` with these values\n",
    "\n",
    "#### Exercise 6. Create a CUQIpy array `x_true` as follows:\n",
    "```python\n",
    "x_true = cuqi.array.CUQIarray(\n",
    "    np.array([  4.72985831,  -6.81425879,   2.42439497, -17.00735634,\n",
    "             7.53142834, -15.3472134 ,   0.05127078,  -1.2022767 ,\n",
    "             -8.06981879,  28.71819395]),\n",
    "    geometry=domain_geometry)\n",
    "```\n"
   ]
  },
  {
   "cell_type": "code",
   "execution_count": null,
   "metadata": {},
   "outputs": [],
   "source": [
    "# your code here"
   ]
  },
  {
   "cell_type": "markdown",
   "metadata": {},
   "source": [
    "And it can be plotted using `x_true.plot()`:"
   ]
  },
  {
   "cell_type": "code",
   "execution_count": null,
   "metadata": {},
   "outputs": [],
   "source": [
    "# Uncomment the following lines to plot the true solution\n",
    "#x_true.plot()"
   ]
  },
  {
   "cell_type": "markdown",
   "metadata": {},
   "source": [
    "#### Exercise 7. Use the data distribution to generate a synthetic data set `y_obs` by sampling from the data distribution.\n",
    "You can use the following code. Note that the keyword argument `x` is the name of the prior distribution.\n",
    "```python\n",
    "np.random.seed(0) # Fix the seed for reproducibility\n",
    "y_obs = y(x=x_true).sample()\n",
    "```"
   ]
  },
  {
   "cell_type": "code",
   "execution_count": null,
   "metadata": {},
   "outputs": [],
   "source": [
    "# your code here"
   ]
  },
  {
   "cell_type": "markdown",
   "metadata": {},
   "source": [
    "#### Exercise 8. Visualize the true porosity field `x_true`, the data `y_obs` and the exact data `A(x_true)` in the same plot."
   ]
  },
  {
   "cell_type": "code",
   "execution_count": null,
   "metadata": {},
   "outputs": [],
   "source": [
    "# your code here"
   ]
  },
  {
   "cell_type": "markdown",
   "metadata": {},
   "source": [
    "#### Exercise 9. Create the joint distribution and the posterior distribution\n",
    "- Use the cuqipy `cuqi.distribution.JointDistribution` to create a joint distribution of `x` and `y` you created, named `joint`.\n",
    "- Create the posterior distribution, named `posterior`, by conditioning the joint distribution on the data `y_obs`, i.e. `joint(y=y_obs)`."
   ]
  },
  {
   "cell_type": "code",
   "execution_count": null,
   "metadata": {},
   "outputs": [],
   "source": [
    "# your code here"
   ]
  },
  {
   "cell_type": "markdown",
   "metadata": {},
   "source": [
    "## Solve the Bayesian inverse problem\n",
    "\n",
    "#### Exercise 10. Sample from the posterior distribution using the Metropolis-Hastings sampler\n",
    "Complete the two incomplete lines in the following code to sample from the posterior distribution using MH sampler. Use the given Ns and Nb as the number of samples and the number of burn-in samples, respectively.\n",
    "\n",
    "```python\n",
    "Ns = 20000 # number of samples\n",
    "Nb = 5000 # number of burn-in samples\n",
    "\n",
    "np.random.seed(0) # fix the seed for reproducibility\n",
    "MH_sampler = # your code here to create a MH sampler\n",
    "MH_samples = # your code here to run the sampler (use sample_adapt method of the sampler)\n",
    "```"
   ]
  },
  {
   "cell_type": "code",
   "execution_count": null,
   "metadata": {},
   "outputs": [],
   "source": [
    "# your code here"
   ]
  },
  {
   "cell_type": "markdown",
   "metadata": {},
   "source": [
    "#### Exercise 11. Visualize the samples\n",
    "Plot the credibility interval using the `Samples` object method `plot_ci`. Pass the exact data `exact=x_true` to the method. Also, use the `Samples` object method `plot_trace` to visualize the sampler chains. And lastly, use the `Samples` object method `plot_pair` to visualize the pairwise distribution of the samples of some of the KL coefficients. How does the result look? Do you think the sampler has converged?\n",
    "\n",
    "Note: when plotting the credibility interval, convert the samples to function values first by using the `Samples` class property `funvals` then plot the credibility interval of the function values."
   ]
  },
  {
   "cell_type": "code",
   "execution_count": null,
   "metadata": {},
   "outputs": [],
   "source": [
    "# your code here"
   ]
  },
  {
   "cell_type": "markdown",
   "metadata": {},
   "source": [
    "#### Exercise 12. Sample from the posterior distribution using the NUTS sampler.\n",
    "Use the following template to sample from the posterior distribution using the NUTS sampler. Use the given `Ns` as the number of samples.\n",
    "\n",
    "**Note (you may consider this):** The NUTS sampler might take ~20 min to run. It is a good idea to test your code with a smaller number of samples first (e.g. `Ns=10`). Also you can save the samples (with the complete run `Ns=100`) in a file (e.g. save the numpy array `NUTS_samples.samples`) so you don't have to run the sampler again. To load the samples, you can load the numpy array you stored (named for example `loaded_numpy_samples`) and pass it to the `Samples` object initializer as follows: `loaded_NUTS_samples=cuqi.samples.Samples(loaded_numpy_samples, geometry = domain_geometry)`.\n",
    "\n",
    "```python\n",
    "Ns = 100 # number of samples\n",
    "Nb = 10 # number of burn-in samples\n",
    "posterior.enable_FD() # Note that the NUTS sampler requires the gradient of the \n",
    "                      # log posterior. This line enables the finite difference differentiation\n",
    "NUTS_sampler = # Create a NUTS sampler object, set `max_depth` (of the tree) to 10, and set `adapt_step_size` to False\n",
    "NUTS_samples = # Sample from the NUTS sampler\n",
    "```\n"
   ]
  },
  {
   "cell_type": "code",
   "execution_count": null,
   "metadata": {},
   "outputs": [],
   "source": [
    "# your code here"
   ]
  },
  {
   "cell_type": "markdown",
   "metadata": {},
   "source": [
    "#### Exercise 13. Visualize the samples\n",
    "- Similar to the MH sampler case, plot the credibility interval and generate the trace plot and the pair plot for the NUTS samples. How does the result compare to the MH sampler?\n",
    "- Also plot the number of tree nodes visited at each iteration of the NUTS sampler which is stored in the `num_tree_node_list` property of the `NUTS_sampler`. Explain generally how does the tree size and the finite difference approximation of the gradient relate to the computational cost of the NUTS sampler?\n"
   ]
  },
  {
   "cell_type": "code",
   "execution_count": null,
   "metadata": {},
   "outputs": [],
   "source": [
    "# your code here"
   ]
  },
  {
   "cell_type": "markdown",
   "metadata": {},
   "source": [
    "#### Exercise 14. Compare the execution time and the effective sample size (ess) of the two samplers\n",
    "Use the `Samples` object method `compute_ess` to calculate the effective sample size of the two samplers. Also, look at the run time (appears at the bottom left of the code cell after running the cell) of the two samplers and compare them. Comment on the results."
   ]
  },
  {
   "cell_type": "code",
   "execution_count": null,
   "metadata": {},
   "outputs": [],
   "source": [
    "# your code here"
   ]
  }
 ],
 "metadata": {
  "kernelspec": {
   "display_name": "Python 3",
   "language": "python",
   "name": "python3"
  },
  "language_info": {
   "codemirror_mode": {
    "name": "ipython",
    "version": 3
   },
   "file_extension": ".py",
   "mimetype": "text/x-python",
   "name": "python",
   "nbconvert_exporter": "python",
   "pygments_lexer": "ipython3",
   "version": "3.10.5"
  }
 },
 "nbformat": 4,
 "nbformat_minor": 2
}
