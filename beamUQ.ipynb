{
 "cells": [
  {
   "cell_type": "markdown",
   "metadata": {},
   "source": [
    "# 1D Beam thickness estimation"
   ]
  },
  {
   "cell_type": "markdown",
   "metadata": {},
   "source": [
    "<img src=\"./figures/448603900_1013404393461142_1134514519153019174_n.jpg\" width=\"1000\">"
   ]
  },
  {
   "cell_type": "markdown",
   "metadata": {},
   "source": [
    "The Bayesian inverse problem is to infer the beam thicknesses, $\\mathbf{t}$, along the beam from measurements of the beam deflections, $\\mathbf{u}$. This can be formulated as\n",
    "\n",
    "$$ \\mathbf{v} = G(\\mathbf{t}) + \\epsilon $$\n",
    "\n",
    "where the forward model found by solving the finite element equations:\n",
    "\n",
    "$$ G(\\mathbf{t}) = \\mathbf{K}(\\mathbf{t})^{-1} \\mathbf{f} $$"
   ]
  },
  {
   "cell_type": "markdown",
   "metadata": {},
   "source": [
    "To represent the thickness as a continuous random function, the KL expansion is introduced as:\n",
    "\n",
    "$$ \\mathbf{t} = \\mu_t + \\sigma \\sum_{i=1}^{N_{KL}} Z_i \\sqrt{\\lambda_i} \\mathbf{e}_i $$\n",
    "\n",
    "This transforms the Bayesian inverse problem to instead being a problem of inferring the coefficients, $Z_i$, i.e.\n",
    "\n",
    "$$ \\mathbf{v} = G(\\mathbf{t}(Z_i)) + \\epsilon $$\n"
   ]
  },
  {
   "cell_type": "markdown",
   "metadata": {},
   "source": [
    "The noise is assummed Gaussian\n",
    "\n",
    "$$ \\epsilon \\sim \\mathcal{N}(0, \\sigma_{obs}^2 ) $$"
   ]
  },
  {
   "cell_type": "markdown",
   "metadata": {},
   "source": [
    "The likelihood function is obtained from the forward model as"
   ]
  },
  {
   "cell_type": "markdown",
   "metadata": {},
   "source": [
    "### Analytical model:\n",
    "\n",
    "The relation between the beam deflection, $u$, and the external forces is given by the Euler-Bernoulli beam equation:\n",
    "\n",
    "$$ M(x) = -EI(x) \\frac{d^2 v(x)}{d x^2}  $$\n",
    "\n",
    "The bending stiffness of the beam is a product of the Young's modulus of the material, $E$, and the second moment of area, $I$. The second moment of area of a rectangular beam is related to the beam thickness by\n",
    "\n",
    "$$ I = \\frac{1}{12}bt^3 $$\n",
    "\n",
    "The moment distribution for the tip load is found as \n",
    "\n",
    "$$ M(x) = -P(L - x) $$\n",
    "\n",
    "Thus, the beam deflection can be found by solving the beam equation:\n",
    "\n",
    "$$\\frac{d^2 v(x)}{d x^2} =  \\frac{P}{EI(x)}(L - x) $$\n"
   ]
  }
 ],
 "metadata": {
  "language_info": {
   "name": "python"
  }
 },
 "nbformat": 4,
 "nbformat_minor": 2
}
