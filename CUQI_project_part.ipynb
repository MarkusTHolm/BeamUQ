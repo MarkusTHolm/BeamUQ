{
 "cells": [
  {
   "cell_type": "code",
   "execution_count": null,
   "metadata": {},
   "outputs": [],
   "source": []
  },
  {
   "cell_type": "markdown",
   "metadata": {},
   "source": [
    "## CUQIpy component final project\n",
    "\n",
    "**Note: under construction to be finalized by midnight 21 July 2024** "
   ]
  },
  {
   "cell_type": "code",
   "execution_count": 9,
   "metadata": {},
   "outputs": [],
   "source": [
    "import numpy as np\n",
    "import matplotlib.pyplot as plt\n",
    "import cuqi\n",
    "from cuqi.model import Model #, LinearModel\n",
    "from cuqi.geometry import MappedGeometry, Continuous1D, KLExpansion #, Geometry, Continuous\n",
    "from cuqi.distribution import Gaussian\n",
    "from scipy.linalg import lu_factor, lu_solve\n",
    "\n",
    "from testBeam import BeamModel1D"
   ]
  },
  {
   "cell_type": "code",
   "execution_count": 10,
   "metadata": {},
   "outputs": [],
   "source": [
    "class hydraulic_class():\n",
    "    def __init__(self, N, L=1, source_idx=0):\n",
    "        self.L = L\n",
    "        self.N = N\n",
    "        self.x = np.linspace(self.L/self.N,1,self.N)\n",
    "        self.dx = self.L/self.N\n",
    "        self.source_idx = source_idx\n",
    "        self.source()\n",
    "\n",
    "    def forward(self, a):\n",
    "        diag1 = -(a[1:] + a[:-1])\n",
    "        diag1 = np.concatenate([diag1,[-a[-1]]])\n",
    "        diag2 = a[1:]\n",
    "\n",
    "        Dxx = np.diag(diag1) + np.diag(diag2,-1) + np.diag(diag2,1)\n",
    "        Dxx /= self.dx*self.dx\n",
    "\n",
    "        lu, piv = lu_factor(Dxx)\n",
    "\n",
    "        sol = lu_solve((lu, piv), self.b_terms) \n",
    "\n",
    "        return np.array(sol)\n",
    "\n",
    "    def source(self, n_source=5, std=0.02):\n",
    "        dist = self.L/(n_source+1)\n",
    "        source_coords = np.linspace( dist,self.L-dist, n_source )\n",
    "        self.b_terms =  np.exp( -0.5*(self.x - source_coords[self.source_idx])**2/std/std )/std/np.sqrt(2*np.pi) \n"
   ]
  },
  {
   "cell_type": "markdown",
   "metadata": {},
   "source": [
    "- Create a mapped KL expansion domain geometry with the mapping `lambda x: exp(x)`.\n",
    "- Create a continuous range geometry for the range.\n",
    "- Create a user define CUQIpy model representing the forward model (hydraulic).\n",
    "- Create a Gaussian i.i.d. prior\n",
    "- Create a Gaussian likelihood (for one injection pattern)\n",
    "- Create a synthetic data from the given true porosity.\n",
    "- Create a posterior\n",
    "- Use MH for sampling\n",
    "- Use NUTS for sampling\n",
    "- Compare the results (ess, pair_plot, trace_plot, plot_ci)\n",
    "- Comment on the computational cost of nuts (tree size, FD)\n",
    "- Create a posterior with multiple likelihoods (for multiple injection patterns)\n",
    "- Use MH for sampling\n",
    "- Comment on how adding more data helped the inference.\n",
    "\n"
   ]
  },
  {
   "cell_type": "code",
   "execution_count": 36,
   "metadata": {},
   "outputs": [
    {
     "name": "stdout",
     "output_type": "stream",
     "text": [
      "CUQI Gaussian Likelihood function. Parameters ['thkVec'].\n"
     ]
    }
   ],
   "source": [
    "# Data and initialization\n",
    "U = lambda x: np.exp(x)             # Define mapping\n",
    "L = 1                               # domain length 1\n",
    "N_hydro = 128                       # Number of measurement points for hydrolic problem\n",
    "N_points = 10                       # Number of discretization points\n",
    "N_modes = 5                         # Number of terms in KL expansion\n",
    "grid1 = np.linspace(0,L,N_points)   # Discretization for domain\n",
    "\n",
    "# Create Beam and hydrolic models\n",
    "model_hydrolic = Model(forward=hydraulic_class(N=N_points, L=L).forward, \n",
    "                range_geometry=Continuous1D(grid=grid1),\n",
    "                domain_geometry=MappedGeometry(KLExpansion( grid=grid1,num_modes=N_modes ), map = U))\n",
    "\n",
    "model_Beam = Model(forward=BeamModel1D(nelx=N_points, Lx=L).forward, \n",
    "                range_geometry=Continuous1D(grid=grid1),\n",
    "                domain_geometry=MappedGeometry(KLExpansion( grid=grid1,num_modes=N_modes ), map = U))\n",
    "\n",
    "# # Test both mdoels for som input\n",
    "# print(model_hydrolic(np.ones(5)))\n",
    "# print(model_Beam(np.ones(5)))\n",
    "\n",
    "# # Gaussian prior -> test it on beam domain\n",
    "# x = Gaussian(0,1,geometry=model_Beam.domain_geometry);\n",
    "# x.sample(100).plot();\n",
    "\n",
    "# Gaussian Likelihood\n",
    "data_test = np.ones(5)\n",
    "likelihood = cuqi.distribution.Gaussian(mean=model_Beam, cov=0.05**2).to_likelihood(data_test)\n",
    "print(likelihood)\n",
    "\n",
    "# Create sunthetic data\n"
   ]
  },
  {
   "cell_type": "code",
   "execution_count": null,
   "metadata": {},
   "outputs": [],
   "source": []
  }
 ],
 "metadata": {
  "kernelspec": {
   "display_name": "Python 3",
   "language": "python",
   "name": "python3"
  },
  "language_info": {
   "codemirror_mode": {
    "name": "ipython",
    "version": 3
   },
   "file_extension": ".py",
   "mimetype": "text/x-python",
   "name": "python",
   "nbconvert_exporter": "python",
   "pygments_lexer": "ipython3",
   "version": "3.12.4"
  }
 },
 "nbformat": 4,
 "nbformat_minor": 2
}
